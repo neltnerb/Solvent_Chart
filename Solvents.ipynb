{
 "cells": [
  {
   "cell_type": "code",
   "execution_count": 24,
   "metadata": {},
   "outputs": [],
   "source": [
    "def install(package):\n",
    "    try:\n",
    "        globals()[package] = importlib.import_module(package)\n",
    "    except:\n",
    "        import pip\n",
    "        pip.main(['install', package])\n",
    "        \n",
    "install('pandas')\n",
    "install('xlrd')\n",
    "install('matplotlib')\n",
    "install('numpy')\n",
    "install('pylab')\n",
    "import pandas\n",
    "import xlrd\n",
    "import matplotlib as plt\n",
    "import numpy as np\n",
    "import pylab\n",
    "from mpl_toolkits.mplot3d import Axes3D\n",
    "from mpl_toolkits.mplot3d import proj3d"
   ]
  },
  {
   "cell_type": "code",
   "execution_count": 25,
   "metadata": {},
   "outputs": [],
   "source": [
    "def addtitle(linenum, xshift, yshift):\n",
    "    x2, y2, _ = proj3d.proj_transform(D[linenum],P[linenum],H[linenum], ax.get_proj())\n",
    "\n",
    "    label = pylab.annotate(\n",
    "        Names[linenum], \n",
    "        xy = (x2, y2), xytext = (xshift,yshift),\n",
    "        textcoords = 'offset points', ha = 'right', va = 'bottom',\n",
    "        bbox = dict(boxstyle = 'round,pad=0.5', fc = 'yellow', alpha = 0.5),\n",
    "        arrowprops = dict(arrowstyle = '->', connectionstyle = 'arc3,rad=0'))"
   ]
  },
  {
   "cell_type": "code",
   "execution_count": 26,
   "metadata": {},
   "outputs": [],
   "source": [
    "df = pandas.read_excel('Solvents.xls')\n",
    "Names = df['Solvent'].values\n",
    "D = df['δD'].values\n",
    "P = df['δP'].values\n",
    "H = df['δH'].values\n",
    "# Calculate the Hansen Solubility\n",
    "\n",
    "# These are the parameters for various plastics.\n",
    "PPS=[18.8, 4.8, 6.8, 2.8]\n",
    "Celluose=[18.6, 12.7, 11.0, 7.6]\n",
    "ChlorinatedPolypropylene=[20.3, 6.3, 5.4, 10.6]\n",
    "Epoxy=[20.4, 12.0, 11.5, 12.7]\n",
    "Isopreneelastomer=[16.6, 1.4, -0.8, 9.6]\n",
    "CelluloseNitrate=[15.4, 14.7, 8.8, 11.5]\n",
    "Polyamide=[17.4, -1.9, 14.9, 9.6]\n",
    "Polyisobutylene=[14.5, 2.5, 4.7, 12.7]\n",
    "PEMA=[17.6, 9.7, 4.0, 10.6]\n",
    "PMMA=[18.6, 10.5, 7.5, 8.6]\n",
    "Polystyrene=[21.3, 5.8, 4.3, 12.7]\n",
    "PVA=[20.9, 11.3, 9.6, 13.7]\n",
    "PVB=[18.6,4.4,13,10.6]\n",
    "PVC=[18.2,7.5,8.3,3.5]\n",
    "Polyester=[21.5,14.9,12.3,16.8]\n",
    "PES=[19.6,10.8,9.2,6.2]\n",
    "HumanSkin=[17.6, 12.5, 11.0, 5.0]\n",
    "\n",
    "SelectedPolymer = PES\n",
    "PolymerTitle = 'PES'\n",
    "# Calculate the Hansen Solubility\n",
    "\n",
    "Ra = np.sqrt(4*(D-SelectedPolymer[0])**2+(P-SelectedPolymer[1])**2+(H-SelectedPolymer[2])**2)\n",
    "\n",
    "# The RER is the relative solubility for the chosen polymer. Less than one means soluble in that solvent.\n",
    "RED = Ra/SelectedPolymer[3]\n",
    "\n",
    "# And we want to append this datapoint to the graphed data and draw a sphere around it with RED=1\n",
    "D = np.append(D, [SelectedPolymer[0]])\n",
    "P = np.append(P, [SelectedPolymer[1]])\n",
    "H = np.append(H, [SelectedPolymer[2]])\n",
    "Names = np.append(Names, PolymerTitle)\n",
    "\n",
    "soluble = np.array(RED<1)"
   ]
  },
  {
   "cell_type": "code",
   "execution_count": 27,
   "metadata": {},
   "outputs": [
    {
     "ename": "TypeError",
     "evalue": "'module' object is not callable",
     "output_type": "error",
     "traceback": [
      "\u001b[0;31m---------------------------------------------------------------------------\u001b[0m",
      "\u001b[0;31mTypeError\u001b[0m                                 Traceback (most recent call last)",
      "\u001b[0;32m<ipython-input-27-13ca863bf252>\u001b[0m in \u001b[0;36m<module>\u001b[0;34m()\u001b[0m\n\u001b[0;32m----> 1\u001b[0;31m \u001b[0mfig\u001b[0m \u001b[0;34m=\u001b[0m \u001b[0mplt\u001b[0m\u001b[0;34m.\u001b[0m\u001b[0mfigure\u001b[0m\u001b[0;34m(\u001b[0m\u001b[0mfigsize\u001b[0m\u001b[0;34m=\u001b[0m\u001b[0;34m(\u001b[0m\u001b[0;36m15\u001b[0m\u001b[0;34m,\u001b[0m \u001b[0;36m10\u001b[0m\u001b[0;34m)\u001b[0m\u001b[0;34m)\u001b[0m\u001b[0;34m\u001b[0m\u001b[0m\n\u001b[0m\u001b[1;32m      2\u001b[0m \u001b[0max\u001b[0m \u001b[0;34m=\u001b[0m \u001b[0mfig\u001b[0m\u001b[0;34m.\u001b[0m\u001b[0madd_subplot\u001b[0m\u001b[0;34m(\u001b[0m\u001b[0;36m111\u001b[0m\u001b[0;34m,\u001b[0m \u001b[0mprojection\u001b[0m\u001b[0;34m=\u001b[0m\u001b[0;34m'3d'\u001b[0m\u001b[0;34m)\u001b[0m\u001b[0;34m\u001b[0m\u001b[0m\n\u001b[1;32m      3\u001b[0m \u001b[0max\u001b[0m\u001b[0;34m.\u001b[0m\u001b[0mview_init\u001b[0m\u001b[0;34m(\u001b[0m\u001b[0;36m50\u001b[0m\u001b[0;34m,\u001b[0m \u001b[0;36m170\u001b[0m\u001b[0;34m)\u001b[0m\u001b[0;34m\u001b[0m\u001b[0m\n\u001b[1;32m      4\u001b[0m \u001b[0;34m\u001b[0m\u001b[0m\n\u001b[1;32m      5\u001b[0m \u001b[0mcolors\u001b[0m \u001b[0;34m=\u001b[0m \u001b[0;34m[\u001b[0m\u001b[0;34m]\u001b[0m\u001b[0;34m\u001b[0m\u001b[0m\n",
      "\u001b[0;31mTypeError\u001b[0m: 'module' object is not callable"
     ]
    }
   ],
   "source": [
    "fig = plt.figure(figsize=(15, 10))\n",
    "ax = fig.add_subplot(111, projection='3d')\n",
    "ax.view_init(50, 170)\n",
    "\n",
    "colors = []\n",
    "for i in range(0, soluble.size):\n",
    "    if soluble[i]:\n",
    "        colors.append('g')\n",
    "    else:\n",
    "        colors.append('r')\n",
    "colors.append('m')\n",
    "\n",
    "# Add axes labels.\n",
    "ax.set_xlabel('δD')\n",
    "ax.set_ylabel('δP')\n",
    "ax.set_zlabel('δH')\n",
    "markersize = 60\n",
    "\n",
    "ax.scatter(D,P,H, s=markersize, c=colors, marker='o')\n",
    "\n",
    "u, v = np.mgrid[0:2*np.pi:20j, 0:np.pi:10j]\n",
    "x = SelectedPolymer[0]+SelectedPolymer[3]*np.cos(u)*np.sin(v)\n",
    "y = SelectedPolymer[1]+SelectedPolymer[3]*np.sin(u)*np.sin(v)\n",
    "z = SelectedPolymer[2]+SelectedPolymer[3]*np.cos(v)\n",
    "ax.plot_wireframe(x, y, z, color=\"b\")\n",
    "\n",
    "# Add titles for the desired chemicals.\n",
    "#for i in range(0, 25):\n",
    "#    addtitle(i)\n",
    "addtitle(0, 10, -100)\n",
    "addtitle(1, 20, -80)\n",
    "addtitle(3, -60, -100)\n",
    "addtitle(13, 60, -30)\n",
    "addtitle(25, 50, -40)\n",
    "addtitle(10, -40, -60)\n",
    "addtitle(9, 20, -50)\n",
    "addtitle(26, -20, 150)\n",
    "\n",
    "plt.show()\n",
    "\n",
    "# This shows each of the provided solvents, as well as the chosen polymer and the polymer's solubility radius.\n",
    "# Dots in green fell within the radius and are solvents for the polymer. Dots in red are insoluble."
   ]
  },
  {
   "cell_type": "code",
   "execution_count": null,
   "metadata": {},
   "outputs": [],
   "source": []
  }
 ],
 "metadata": {
  "kernelspec": {
   "display_name": "Python 3",
   "language": "python",
   "name": "python3"
  },
  "language_info": {
   "codemirror_mode": {
    "name": "ipython",
    "version": 3
   },
   "file_extension": ".py",
   "mimetype": "text/x-python",
   "name": "python",
   "nbconvert_exporter": "python",
   "pygments_lexer": "ipython3",
   "version": "3.6.5"
  }
 },
 "nbformat": 4,
 "nbformat_minor": 2
}
